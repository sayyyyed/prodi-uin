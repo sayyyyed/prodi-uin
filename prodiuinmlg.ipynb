{
 "cells": [
  {
   "cell_type": "code",
   "execution_count": 1,
   "metadata": {},
   "outputs": [],
   "source": [
    "import pandas as pd"
   ]
  },
  {
   "cell_type": "code",
   "execution_count": 2,
   "metadata": {},
   "outputs": [],
   "source": [
    "df = pd.read_json('prodiuinmlg.json')\n"
   ]
  },
  {
   "cell_type": "code",
   "execution_count": 3,
   "metadata": {},
   "outputs": [
    {
     "data": {
      "text/html": [
       "<div>\n",
       "<style scoped>\n",
       "    .dataframe tbody tr th:only-of-type {\n",
       "        vertical-align: middle;\n",
       "    }\n",
       "\n",
       "    .dataframe tbody tr th {\n",
       "        vertical-align: top;\n",
       "    }\n",
       "\n",
       "    .dataframe thead th {\n",
       "        text-align: right;\n",
       "    }\n",
       "</style>\n",
       "<table border=\"1\" class=\"dataframe\">\n",
       "  <thead>\n",
       "    <tr style=\"text-align: right;\">\n",
       "      <th></th>\n",
       "      <th>id_sms</th>\n",
       "      <th>kode_prodi</th>\n",
       "      <th>nm_lemb</th>\n",
       "      <th>stat_prodi</th>\n",
       "      <th>jenjang</th>\n",
       "      <th>akreditas</th>\n",
       "      <th>rasio_list</th>\n",
       "    </tr>\n",
       "  </thead>\n",
       "  <tbody>\n",
       "    <tr>\n",
       "      <th>0</th>\n",
       "      <td>MjM0NDEwNTktRkM4QS00Nzc2LUI0OTctNDJFRjMyNDE5Nzg5</td>\n",
       "      <td>61406</td>\n",
       "      <td>Perbankan Syariah</td>\n",
       "      <td>Tutup</td>\n",
       "      <td>D3</td>\n",
       "      <td>None</td>\n",
       "      <td>[{'semester': '20231', 'dosen': 0, 'mahasiswa'...</td>\n",
       "    </tr>\n",
       "    <tr>\n",
       "      <th>1</th>\n",
       "      <td>MTlDMjAzMjItQjIzQy00NTEyLUEzQTEtNkE0OTM0NDhDNDYy</td>\n",
       "      <td>48901</td>\n",
       "      <td>Pendidikan Profesi Apoteker</td>\n",
       "      <td>Aktif</td>\n",
       "      <td>Profesi</td>\n",
       "      <td>Baik</td>\n",
       "      <td>[{'semester': '20231', 'dosen': 9, 'mahasiswa'...</td>\n",
       "    </tr>\n",
       "    <tr>\n",
       "      <th>2</th>\n",
       "      <td>QUQwMDEyMTUtNTdFRi00MkI3LUIzMTgtRDdEM0RFNzFDMTM0</td>\n",
       "      <td>86902</td>\n",
       "      <td>Pendidikan Profesi Guru</td>\n",
       "      <td>Aktif</td>\n",
       "      <td>Profesi</td>\n",
       "      <td>Baik</td>\n",
       "      <td>[{'semester': '20231', 'dosen': 5, 'mahasiswa'...</td>\n",
       "    </tr>\n",
       "    <tr>\n",
       "      <th>3</th>\n",
       "      <td>OUJCMkM0NEEtRDk1NC00QjIxLUI5RTctMzg5ODZCOEE2RjY4</td>\n",
       "      <td>11901</td>\n",
       "      <td>Profesi Dokter</td>\n",
       "      <td>Aktif</td>\n",
       "      <td>Profesi</td>\n",
       "      <td>Baik</td>\n",
       "      <td>[{'semester': '20231', 'dosen': 12, 'mahasiswa...</td>\n",
       "    </tr>\n",
       "    <tr>\n",
       "      <th>4</th>\n",
       "      <td>ODBEMjk2ODUtQkYzMy00MjMyLTg3NzgtRUMyNkI1NDJBNjgz</td>\n",
       "      <td>62201</td>\n",
       "      <td>Akuntansi</td>\n",
       "      <td>Aktif</td>\n",
       "      <td>S1</td>\n",
       "      <td>Unggul</td>\n",
       "      <td>[{'semester': '20231', 'dosen': 31, 'mahasiswa...</td>\n",
       "    </tr>\n",
       "  </tbody>\n",
       "</table>\n",
       "</div>"
      ],
      "text/plain": [
       "                                             id_sms  kode_prodi   \n",
       "0  MjM0NDEwNTktRkM4QS00Nzc2LUI0OTctNDJFRjMyNDE5Nzg5       61406  \\\n",
       "1  MTlDMjAzMjItQjIzQy00NTEyLUEzQTEtNkE0OTM0NDhDNDYy       48901   \n",
       "2  QUQwMDEyMTUtNTdFRi00MkI3LUIzMTgtRDdEM0RFNzFDMTM0       86902   \n",
       "3  OUJCMkM0NEEtRDk1NC00QjIxLUI5RTctMzg5ODZCOEE2RjY4       11901   \n",
       "4  ODBEMjk2ODUtQkYzMy00MjMyLTg3NzgtRUMyNkI1NDJBNjgz       62201   \n",
       "\n",
       "                       nm_lemb stat_prodi  jenjang akreditas   \n",
       "0            Perbankan Syariah      Tutup       D3      None  \\\n",
       "1  Pendidikan Profesi Apoteker      Aktif  Profesi      Baik   \n",
       "2      Pendidikan Profesi Guru      Aktif  Profesi      Baik   \n",
       "3               Profesi Dokter      Aktif  Profesi      Baik   \n",
       "4                    Akuntansi      Aktif       S1    Unggul   \n",
       "\n",
       "                                          rasio_list  \n",
       "0  [{'semester': '20231', 'dosen': 0, 'mahasiswa'...  \n",
       "1  [{'semester': '20231', 'dosen': 9, 'mahasiswa'...  \n",
       "2  [{'semester': '20231', 'dosen': 5, 'mahasiswa'...  \n",
       "3  [{'semester': '20231', 'dosen': 12, 'mahasiswa...  \n",
       "4  [{'semester': '20231', 'dosen': 31, 'mahasiswa...  "
      ]
     },
     "execution_count": 3,
     "metadata": {},
     "output_type": "execute_result"
    }
   ],
   "source": [
    "df.head()"
   ]
  }
 ],
 "metadata": {
  "kernelspec": {
   "display_name": "Python 3",
   "language": "python",
   "name": "python3"
  },
  "language_info": {
   "codemirror_mode": {
    "name": "ipython",
    "version": 3
   },
   "file_extension": ".py",
   "mimetype": "text/x-python",
   "name": "python",
   "nbconvert_exporter": "python",
   "pygments_lexer": "ipython3",
   "version": "3.11.4"
  }
 },
 "nbformat": 4,
 "nbformat_minor": 2
}
